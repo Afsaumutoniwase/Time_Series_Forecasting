{
  "cells": [
    {
      "cell_type": "markdown",
      "metadata": {
        "id": "view-in-github",
        "colab_type": "text"
      },
      "source": [
        "<a href=\"https://colab.research.google.com/github/Afsaumutoniwase/Time_Series_Forecasting/blob/main/air_quality_forecasting_starter_code.ipynb\" target=\"_parent\"><img src=\"https://colab.research.google.com/assets/colab-badge.svg\" alt=\"Open In Colab\"/></a>"
      ]
    },
    {
      "cell_type": "markdown",
      "metadata": {
        "id": "iTsEYdtov6tp"
      },
      "source": [
        "# Beijing Air Quality Forecasting Starter Notebook"
      ]
    },
    {
      "cell_type": "code",
      "execution_count": 1,
      "metadata": {
        "id": "nWkSHhqXrCqF"
      },
      "outputs": [],
      "source": [
        "# Import necessary libraries\n",
        "import pandas as pd\n",
        "import numpy as np\n",
        "import matplotlib.pyplot as plt\n",
        "import seaborn as sns\n",
        "from sklearn.preprocessing import StandardScaler, MinMaxScaler, RobustScaler\n",
        "from sklearn.model_selection import TimeSeriesSplit\n",
        "from sklearn.metrics import mean_squared_error, mean_absolute_error\n",
        "import tensorflow as tf\n",
        "from tensorflow.keras.models import Sequential, Model\n",
        "from tensorflow.keras.layers import LSTM, Dense, Dropout, GRU, Bidirectional, Attention, Input, Concatenate, BatchNormalization\n",
        "from tensorflow.keras.callbacks import EarlyStopping, ReduceLROnPlateau, ModelCheckpoint\n",
        "from tensorflow.keras.optimizers import Adam, RMSprop\n",
        "import warnings\n",
        "warnings.filterwarnings('ignore')\n",
        "\n",
        "# Set random seeds for reproducibility\n",
        "np.random.seed(42)\n",
        "tf.random.set_seed(42)"
      ]
    },
    {
      "cell_type": "code",
      "execution_count": 2,
      "metadata": {
        "colab": {
          "base_uri": "https://localhost:8080/"
        },
        "id": "y_C4HV99rHd5",
        "outputId": "51b474ba-1cbd-44b7-adf5-d93dbf48a83e"
      },
      "outputs": [
        {
          "output_type": "stream",
          "name": "stdout",
          "text": [
            "Mounted at /content/drive\n"
          ]
        }
      ],
      "source": [
        "# Mount Google Drive to access datasets (for Colab only)\n",
        "# Uncomment the lines below if running in Google Colab\n",
        "from google.colab import drive\n",
        "drive.mount('/content/drive')"
      ]
    },
    {
      "cell_type": "code",
      "execution_count": 3,
      "metadata": {
        "id": "gxW-6b_jrLAL",
        "colab": {
          "base_uri": "https://localhost:8080/"
        },
        "outputId": "9e6769cc-3e80-431d-ea52-b29d0aa45c7c"
      },
      "outputs": [
        {
          "output_type": "stream",
          "name": "stdout",
          "text": [
            "Data loaded successfully!\n",
            "Training data shape: (30676, 12)\n",
            "Test data shape: (13148, 11)\n"
          ]
        }
      ],
      "source": [
        "# Load the datasets\n",
        "# Update these paths to match your local file paths\n",
        "train = pd.read_csv('/content/drive/MyDrive/Time Series Assignment/train.csv')  # Update with your actual train.csv path\n",
        "test = pd.read_csv('/content/drive/MyDrive/Time Series Assignment/test.csv')    # Update with your actual test.csv path\n",
        "\n",
        "print(\"Data loaded successfully!\")\n",
        "print(f\"Training data shape: {train.shape}\")\n",
        "print(f\"Test data shape: {test.shape}\")"
      ]
    },
    {
      "cell_type": "markdown",
      "metadata": {
        "id": "cRse3uqRrft5"
      },
      "source": [
        "# Explore the training data\n",
        "\n",
        "In this sections explore your dataset with appropiate statistics and visualisations to understand your better. Ensure that you explain output of every code cell and what it entails."
      ]
    },
    {
      "cell_type": "code",
      "execution_count": 4,
      "metadata": {
        "colab": {
          "base_uri": "https://localhost:8080/",
          "height": 1000
        },
        "id": "3R74CEBFrYok",
        "outputId": "e2f07b2e-1056-49ed-a6e7-3260d37d21aa"
      },
      "outputs": [
        {
          "output_type": "stream",
          "name": "stdout",
          "text": [
            "Training Data Overview:\n",
            "   No      DEWP      TEMP      PRES       Iws        Is        Ir  \\\n",
            "0   1 -1.580878 -1.922250  0.443328 -0.441894 -0.069353 -0.137667   \n",
            "1   2 -1.580878 -2.004228  0.345943 -0.379306 -0.069353 -0.137667   \n",
            "2   3 -1.580878 -1.922250  0.248559 -0.343514 -0.069353 -0.137667   \n",
            "3   4 -1.580878 -2.168183  0.248559 -0.280926 -0.069353 -0.137667   \n",
            "4   5 -1.511594 -2.004228  0.151174 -0.218339 -0.069353 -0.137667   \n",
            "\n",
            "              datetime   cbwd_NW   cbwd_SE   cbwd_cv  pm2.5  \n",
            "0  2010-01-01 00:00:00  1.448138 -0.732019 -0.522096    NaN  \n",
            "1  2010-01-01 01:00:00  1.448138 -0.732019 -0.522096    NaN  \n",
            "2  2010-01-01 02:00:00  1.448138 -0.732019 -0.522096    NaN  \n",
            "3  2010-01-01 03:00:00  1.448138 -0.732019 -0.522096    NaN  \n",
            "4  2010-01-01 04:00:00  1.448138 -0.732019 -0.522096    NaN  \n",
            "\n",
            "Dataset Info:\n",
            "<class 'pandas.core.frame.DataFrame'>\n",
            "RangeIndex: 30676 entries, 0 to 30675\n",
            "Data columns (total 12 columns):\n",
            " #   Column    Non-Null Count  Dtype  \n",
            "---  ------    --------------  -----  \n",
            " 0   No        30676 non-null  int64  \n",
            " 1   DEWP      30676 non-null  float64\n",
            " 2   TEMP      30676 non-null  float64\n",
            " 3   PRES      30676 non-null  float64\n",
            " 4   Iws       30676 non-null  float64\n",
            " 5   Is        30676 non-null  float64\n",
            " 6   Ir        30676 non-null  float64\n",
            " 7   datetime  30676 non-null  object \n",
            " 8   cbwd_NW   30676 non-null  float64\n",
            " 9   cbwd_SE   30676 non-null  float64\n",
            " 10  cbwd_cv   30676 non-null  float64\n",
            " 11  pm2.5     28755 non-null  float64\n",
            "dtypes: float64(10), int64(1), object(1)\n",
            "memory usage: 2.8+ MB\n",
            "None\n",
            "\n",
            "Statistical Summary:\n",
            "                 No          DEWP          TEMP          PRES           Iws  \\\n",
            "count  30676.000000  30676.000000  30676.000000  30676.000000  30676.000000   \n",
            "mean   15338.500000     -0.029431     -0.062712      0.013612      0.030542   \n",
            "std     8855.542765      0.994087      1.015193      1.008991      1.018337   \n",
            "min        1.000000     -2.135153     -2.578070     -2.380821     -0.468688   \n",
            "25%     7669.750000     -0.888034     -0.938521     -0.822670     -0.441894   \n",
            "50%    15338.500000     -0.056622      0.045209     -0.043595     -0.352512   \n",
            "75%    23007.250000      0.913358      0.864984      0.832865      0.005216   \n",
            "max    30676.000000      1.814055      2.340578      2.877939     11.231956   \n",
            "\n",
            "                 Is            Ir       cbwd_NW       cbwd_SE       cbwd_cv  \\\n",
            "count  30676.000000  30676.000000  30676.000000  30676.000000  30676.000000   \n",
            "mean       0.016992      0.011253      0.016193      0.005833     -0.025008   \n",
            "std        1.087278      1.063811      1.006001      1.001847      0.982122   \n",
            "min       -0.069353     -0.137667     -0.690542     -0.732019     -0.522096   \n",
            "25%       -0.069353     -0.137667     -0.690542     -0.732019     -0.522096   \n",
            "50%       -0.069353     -0.137667     -0.690542     -0.732019     -0.522096   \n",
            "75%       -0.069353     -0.137667      1.448138      1.366085     -0.522096   \n",
            "max       35.439859     25.288745      1.448138      1.366085      1.915355   \n",
            "\n",
            "              pm2.5  \n",
            "count  28755.000000  \n",
            "mean     100.793427  \n",
            "std       93.144433  \n",
            "min        0.000000  \n",
            "25%       29.000000  \n",
            "50%       75.000000  \n",
            "75%      142.000000  \n",
            "max      994.000000  \n",
            "\n",
            "Missing Values:\n",
            "No             0\n",
            "DEWP           0\n",
            "TEMP           0\n",
            "PRES           0\n",
            "Iws            0\n",
            "Is             0\n",
            "Ir             0\n",
            "datetime       0\n",
            "cbwd_NW        0\n",
            "cbwd_SE        0\n",
            "cbwd_cv        0\n",
            "pm2.5       1921\n",
            "dtype: int64\n"
          ]
        },
        {
          "output_type": "display_data",
          "data": {
            "text/plain": [
              "<Figure size 1500x500 with 3 Axes>"
            ],
            "image/png": "[encoded data removed]"
          },
          "metadata": {}
        },
        {
          "output_type": "stream",
          "name": "stdout",
          "text": [
            "\n",
            "Feature correlations with PM2.5:\n",
            "pm2.5      1.000000\n",
            "DEWP       0.218187\n",
            "cbwd_cv    0.158033\n",
            "cbwd_SE    0.118986\n",
            "Is         0.022279\n",
            "No         0.017961\n",
            "TEMP      -0.039601\n",
            "Ir        -0.052288\n",
            "PRES      -0.107773\n",
            "cbwd_NW   -0.231176\n",
            "Iws       -0.260250\n",
            "Name: pm2.5, dtype: float64\n"
          ]
        }
      ],
      "source": [
        "# Comprehensive data exploration\n",
        "print(\"Training Data Overview:\")\n",
        "print(train.head())\n",
        "print(\"\\nDataset Info:\")\n",
        "print(train.info())\n",
        "print(\"\\nStatistical Summary:\")\n",
        "print(train.describe())\n",
        "print(\"\\nMissing Values:\")\n",
        "print(train.isnull().sum())\n",
        "\n",
        "# Check for target variable distribution\n",
        "plt.figure(figsize=(15, 5))\n",
        "plt.subplot(1, 3, 1)\n",
        "plt.hist(train['pm2.5'], bins=50, alpha=0.7)\n",
        "plt.title('PM2.5 Distribution')\n",
        "plt.xlabel('PM2.5')\n",
        "plt.ylabel('Frequency')\n",
        "\n",
        "plt.subplot(1, 3, 2)\n",
        "plt.plot(train.index[:1000], train['pm2.5'][:1000])\n",
        "plt.title('PM2.5 Time Series (First 1000 points)')\n",
        "plt.xlabel('Index')\n",
        "plt.ylabel('PM2.5')\n",
        "\n",
        "plt.subplot(1, 3, 3)\n",
        "correlation_matrix = train.select_dtypes(include=[np.number]).corr()['pm2.5'].sort_values(ascending=False)\n",
        "correlation_matrix[:-1].plot(kind='bar')\n",
        "plt.title('Feature Correlation with PM2.5')\n",
        "plt.xticks(rotation=45)\n",
        "plt.tight_layout()\n",
        "plt.show()\n",
        "\n",
        "print(f\"\\nFeature correlations with PM2.5:\")\n",
        "print(correlation_matrix)"
      ]
    },
    {
      "cell_type": "code",
      "execution_count": 5,
      "metadata": {
        "colab": {
          "base_uri": "https://localhost:8080/"
        },
        "id": "-om6hH_RtG8Z",
        "outputId": "c1d96893-a160-47a4-8062-e9b130d62498"
      },
      "outputs": [
        {
          "output_type": "execute_result",
          "data": {
            "text/plain": [
              "Index(['No', 'DEWP', 'TEMP', 'PRES', 'Iws', 'Is', 'Ir', 'datetime', 'cbwd_NW',\n",
              "       'cbwd_SE', 'cbwd_cv', 'pm2.5'],\n",
              "      dtype='object')"
            ]
          },
          "metadata": {},
          "execution_count": 5
        }
      ],
      "source": [
        "train.columns"
      ]
    },
    {
      "cell_type": "code",
      "execution_count": 6,
      "metadata": {
        "id": "35IGrMYRscQx",
        "colab": {
          "base_uri": "https://localhost:8080/"
        },
        "outputId": "8dcfc69e-9fe7-4fed-88e5-5fe888e529e6"
      },
      "outputs": [
        {
          "output_type": "stream",
          "name": "stdout",
          "text": [
            "Enhanced features created successfully!\n",
            "Training data shape after feature engineering: (30676, 32)\n",
            "New features added: {'is_rush_hour', 'day_sin', 'hour_cos', 'day', 'day_cos', 'is_weekend', 'hour', 'month', 'year', 'weekday_cos', 'weekofyear', 'is_winter', 'hour_sin', 'is_autumn', 'is_summer', 'month_sin', 'is_spring', 'dayofweek', 'weekday_sin', 'month_cos', 'quarter'}\n"
          ]
        }
      ],
      "source": [
        "# Enhanced data preprocessing with time features\n",
        "def create_time_features(df):\n",
        "    \"\"\"Create comprehensive time-based features\"\"\"\n",
        "    df = df.copy()\n",
        "\n",
        "    # Ensure datetime is the index\n",
        "    if 'datetime' in df.columns:\n",
        "        df['datetime'] = pd.to_datetime(df['datetime'])\n",
        "        df.set_index('datetime', inplace=True)\n",
        "\n",
        "    # Extract time features\n",
        "    df['hour'] = df.index.hour\n",
        "    df['day'] = df.index.day\n",
        "    df['month'] = df.index.month\n",
        "    df['year'] = df.index.year\n",
        "    df['dayofweek'] = df.index.dayofweek\n",
        "    df['weekofyear'] = df.index.isocalendar().week\n",
        "    df['quarter'] = df.index.quarter\n",
        "\n",
        "    # Cyclical features (important for time series)\n",
        "    df['hour_sin'] = np.sin(2 * np.pi * df['hour'] / 24)\n",
        "    df['hour_cos'] = np.cos(2 * np.pi * df['hour'] / 24)\n",
        "    df['day_sin'] = np.sin(2 * np.pi * df['day'] / 31)\n",
        "    df['day_cos'] = np.cos(2 * np.pi * df['day'] / 31)\n",
        "    df['month_sin'] = np.sin(2 * np.pi * df['month'] / 12)\n",
        "    df['month_cos'] = np.cos(2 * np.pi * df['month'] / 12)\n",
        "    df['weekday_sin'] = np.sin(2 * np.pi * df['dayofweek'] / 7)\n",
        "    df['weekday_cos'] = np.cos(2 * np.pi * df['dayofweek'] / 7)\n",
        "\n",
        "    # Season indicators\n",
        "    df['is_weekend'] = (df['dayofweek'] >= 5).astype(int)\n",
        "    df['is_winter'] = ((df['month'] == 12) | (df['month'] <= 2)).astype(int)\n",
        "    df['is_spring'] = ((df['month'] >= 3) & (df['month'] <= 5)).astype(int)\n",
        "    df['is_summer'] = ((df['month'] >= 6) & (df['month'] <= 8)).astype(int)\n",
        "    df['is_autumn'] = ((df['month'] >= 9) & (df['month'] <= 11)).astype(int)\n",
        "\n",
        "    # Rush hours\n",
        "    df['is_rush_hour'] = ((df['hour'] >= 7) & (df['hour'] <= 9) |\n",
        "                         (df['hour'] >= 17) & (df['hour'] <= 19)).astype(int)\n",
        "\n",
        "    return df\n",
        "\n",
        "# Apply time feature engineering\n",
        "train_enhanced = create_time_features(train)\n",
        "test_enhanced = create_time_features(test)\n",
        "\n",
        "print(\"Enhanced features created successfully!\")\n",
        "print(f\"Training data shape after feature engineering: {train_enhanced.shape}\")\n",
        "print(f\"New features added: {set(train_enhanced.columns) - set(train.columns)}\")"
      ]
    },
    {
      "cell_type": "markdown",
      "metadata": {
        "id": "ABAqt0Jztd5s"
      },
      "source": [
        "# Handle missing values\n",
        "\n",
        "\n",
        "- Check the dataset for missing values and decide how to handle them.\n",
        "- In this example, missing values are filled with the mean. You can experiment with other strategies."
      ]
    },
    {
      "cell_type": "code",
      "execution_count": 7,
      "metadata": {
        "id": "u2n29Ge1tami",
        "colab": {
          "base_uri": "https://localhost:8080/"
        },
        "outputId": "b026722a-925f-4343-b873-12ea7d6052e2"
      },
      "outputs": [
        {
          "output_type": "stream",
          "name": "stdout",
          "text": [
            "Advanced preprocessing completed!\n",
            "Missing values in train: 0\n",
            "Missing values in test: 0\n"
          ]
        }
      ],
      "source": [
        "# Advanced missing value handling and outlier treatment\n",
        "def handle_missing_values_and_outliers(df, target_col=None):\n",
        "    \"\"\"Advanced missing value handling and outlier treatment\"\"\"\n",
        "    df = df.copy()\n",
        "\n",
        "    # For numeric columns, use forward fill then backward fill, then mean\n",
        "    numeric_cols = df.select_dtypes(include=[np.number]).columns\n",
        "    for col in numeric_cols:\n",
        "        # Forward fill (use previous value)\n",
        "        df[col] = df[col].fillna(method='ffill')\n",
        "        # Backward fill for any remaining NaNs\n",
        "        df[col] = df[col].fillna(method='bfill')\n",
        "        # Fill any remaining with mean\n",
        "        df[col] = df[col].fillna(df[col].mean())\n",
        "\n",
        "    # Outlier treatment using IQR method (only for non-target columns)\n",
        "    if target_col:\n",
        "        cols_to_treat = [col for col in numeric_cols if col != target_col]\n",
        "    else:\n",
        "        cols_to_treat = numeric_cols\n",
        "\n",
        "    for col in cols_to_treat:\n",
        "        Q1 = df[col].quantile(0.25)\n",
        "        Q3 = df[col].quantile(0.75)\n",
        "        IQR = Q3 - Q1\n",
        "        lower_bound = Q1 - 1.5 * IQR\n",
        "        upper_bound = Q3 + 1.5 * IQR\n",
        "\n",
        "        # Cap outliers instead of removing them (better for time series)\n",
        "        df[col] = np.clip(df[col], lower_bound, upper_bound)\n",
        "\n",
        "    return df\n",
        "\n",
        "# Apply advanced preprocessing\n",
        "train_processed = handle_missing_values_and_outliers(train_enhanced, 'pm2.5')\n",
        "test_processed = handle_missing_values_and_outliers(test_enhanced)\n",
        "\n",
        "print(\"Advanced preprocessing completed!\")\n",
        "print(f\"Missing values in train: {train_processed.isnull().sum().sum()}\")\n",
        "print(f\"Missing values in test: {test_processed.isnull().sum().sum()}\")"
      ]
    },
    {
      "cell_type": "markdown",
      "metadata": {
        "id": "YKndkdRuty1C"
      },
      "source": [
        "# Separate features and target\n",
        "\n",
        "- Feel free to trop any non-essential columns like that you think might not contribute to modeling."
      ]
    },
    {
      "cell_type": "code",
      "execution_count": 9,
      "metadata": {
        "id": "NyP2mDjruG9R",
        "colab": {
          "base_uri": "https://localhost:8080/"
        },
        "outputId": "14995207-2fb3-4fe5-ea02-ac7d131a7c49"
      },
      "outputs": [
        {
          "output_type": "stream",
          "name": "stdout",
          "text": [
            "Creating advanced features...\n",
            "Final training data shape: (30676, 114)\n",
            "Final test data shape: (13148, 99)\n",
            "Training features: 112\n",
            "Test features: 98\n",
            "Common features: 98\n",
            "Creating proxy target features for test set...\n",
            "Final number of aligned features: 112\n",
            "Final X_train shape: (30676, 112)\n",
            "Final X_test shape: (13148, 112)\n",
            "Feature columns sample: ['DEWP', 'TEMP', 'PRES', 'Iws', 'Is', 'Ir', 'cbwd_NW', 'cbwd_SE', 'cbwd_cv', 'hour']...\n"
          ]
        }
      ],
      "source": [
        "# Advanced feature engineering with lag and rolling features\n",
        "def create_lag_and_rolling_features(df, target_col='pm2.5', feature_cols=None):\n",
        "    \"\"\"Create lag features and rolling statistics\"\"\"\n",
        "    df = df.copy()\n",
        "\n",
        "    if feature_cols is None:\n",
        "        # Select numeric columns excluding target\n",
        "        feature_cols = [col for col in df.select_dtypes(include=[np.number]).columns\n",
        "                       if col != target_col and col != 'No']\n",
        "\n",
        "    # Create lag features for key variables\n",
        "    important_features = ['TEMP', 'PRES', 'DEWP', 'RAIN', 'WSPM'] if any(col in df.columns for col in ['TEMP', 'PRES', 'DEWP', 'RAIN', 'WSPM']) else feature_cols[:5]\n",
        "\n",
        "    for feature in important_features:\n",
        "        if feature in df.columns:\n",
        "            # Lag features\n",
        "            for lag in [1, 2, 3, 6, 12, 24]:\n",
        "                df[f'{feature}_lag_{lag}'] = df[feature].shift(lag)\n",
        "\n",
        "            # Rolling statistics\n",
        "            for window in [6, 12, 24, 48]:\n",
        "                df[f'{feature}_rolling_mean_{window}'] = df[feature].rolling(window=window, min_periods=1).mean()\n",
        "                df[f'{feature}_rolling_std_{window}'] = df[feature].rolling(window=window, min_periods=1).std()\n",
        "                df[f'{feature}_rolling_max_{window}'] = df[feature].rolling(window=window, min_periods=1).max()\n",
        "                df[f'{feature}_rolling_min_{window}'] = df[feature].rolling(window=window, min_periods=1).min()\n",
        "\n",
        "    # Target lag features (only for training data)\n",
        "    if target_col in df.columns:\n",
        "        for lag in [1, 2, 3, 6, 12, 24]:\n",
        "            df[f'{target_col}_lag_{lag}'] = df[target_col].shift(lag)\n",
        "\n",
        "        # Rolling statistics for target\n",
        "        for window in [6, 12, 24, 48]:\n",
        "            df[f'{target_col}_rolling_mean_{window}'] = df[target_col].rolling(window=window, min_periods=1).mean()\n",
        "            df[f'{target_col}_rolling_std_{window}'] = df[target_col].rolling(window=window, min_periods=1).std()\n",
        "\n",
        "    # Interaction features\n",
        "    if 'TEMP' in df.columns and 'PRES' in df.columns:\n",
        "        df['TEMP_PRES_interaction'] = df['TEMP'] * df['PRES']\n",
        "    if 'DEWP' in df.columns and 'TEMP' in df.columns:\n",
        "        df['TEMP_DEWP_diff'] = df['TEMP'] - df['DEWP']\n",
        "    if 'WSPM' in df.columns and 'RAIN' in df.columns:\n",
        "        df['WIND_RAIN_interaction'] = df['WSPM'] * df['RAIN']\n",
        "\n",
        "    return df\n",
        "\n",
        "# Apply advanced feature engineering\n",
        "print(\"Creating advanced features...\")\n",
        "train_final = create_lag_and_rolling_features(train_processed)\n",
        "test_final = create_lag_and_rolling_features(test_processed, target_col=None)\n",
        "\n",
        "# Handle any remaining NaN values created by lag features\n",
        "train_final = train_final.fillna(method='bfill').fillna(train_final.mean())\n",
        "test_final = test_final.fillna(method='bfill').fillna(test_final.mean())\n",
        "\n",
        "print(f\"Final training data shape: {train_final.shape}\")\n",
        "print(f\"Final test data shape: {test_final.shape}\")\n",
        "\n",
        "# FIXED: Prepare features ensuring alignment between train and test\n",
        "# Get feature columns that exist in both train and test datasets\n",
        "train_feature_cols = [col for col in train_final.columns if col not in ['pm2.5', 'No']]\n",
        "test_feature_cols = [col for col in test_final.columns if col not in ['pm2.5', 'No']]\n",
        "\n",
        "# Use only features that exist in both datasets\n",
        "common_feature_cols = [col for col in train_feature_cols if col in test_feature_cols]\n",
        "\n",
        "print(f\"Training features: {len(train_feature_cols)}\")\n",
        "print(f\"Test features: {len(test_feature_cols)}\")\n",
        "print(f\"Common features: {len(common_feature_cols)}\")\n",
        "\n",
        "# Use common features for both datasets\n",
        "X_train_features = train_final[common_feature_cols]\n",
        "y_train = train_final['pm2.5']\n",
        "X_test_features = test_final[common_feature_cols]\n",
        "\n",
        "# For test set, we'll create proxy target features using the mean from training data\n",
        "# This is a common technique when target lag features are important\n",
        "print(\"Creating proxy target features for test set...\")\n",
        "for lag in [1, 2, 3, 6, 12, 24]:\n",
        "    col_name = f'pm2.5_lag_{lag}'\n",
        "    if col_name in train_final.columns:\n",
        "        # Use the mean value from training data for test set\n",
        "        test_proxy_value = train_final[col_name].mean()\n",
        "        X_test_features[col_name] = test_proxy_value\n",
        "\n",
        "for window in [6, 12, 24, 48]:\n",
        "    for stat in ['rolling_mean', 'rolling_std']:\n",
        "        col_name = f'pm2.5_{stat}_{window}'\n",
        "        if col_name in train_final.columns:\n",
        "            # Use the mean value from training data for test set\n",
        "            test_proxy_value = train_final[col_name].mean()\n",
        "            X_test_features[col_name] = test_proxy_value\n",
        "\n",
        "# Update feature columns to include the proxy target features\n",
        "feature_cols = X_train_features.columns.tolist()\n",
        "target_proxy_cols = [col for col in X_test_features.columns if col.startswith('pm2.5_') and col not in feature_cols]\n",
        "feature_cols.extend(target_proxy_cols)\n",
        "\n",
        "# Ensure both datasets have the same features\n",
        "X_train_features = train_final[feature_cols]\n",
        "X_test_features = X_test_features[feature_cols]\n",
        "\n",
        "print(f\"Final number of aligned features: {len(feature_cols)}\")\n",
        "print(f\"Final X_train shape: {X_train_features.shape}\")\n",
        "print(f\"Final X_test shape: {X_test_features.shape}\")\n",
        "print(f\"Feature columns sample: {feature_cols[:10]}...\")"
      ]
    },
    {
      "cell_type": "code",
      "execution_count": 10,
      "metadata": {
        "colab": {
          "base_uri": "https://localhost:8080/"
        },
        "id": "cNrWPW0uR0f-",
        "outputId": "a694ef87-cb5a-4743-8407-ed08fd9b4d9a"
      },
      "outputs": [
        {
          "output_type": "stream",
          "name": "stdout",
          "text": [
            "Applying advanced scaling...\n",
            "Creating sequences with length: 48\n",
            "Training sequences shape: (30628, 48, 112)\n",
            "Training targets shape: (30628,)\n",
            "Test sequences shape: (13100, 48, 112)\n",
            "Final training shape: (26033, 48, 112)\n",
            "Final validation shape: (4595, 48, 112)\n"
          ]
        }
      ],
      "source": [
        "# Advanced sequence preparation for LSTM\n",
        "def create_sequences(X, y, sequence_length=24):\n",
        "    \"\"\"Create sequences for LSTM input with proper time series structure\"\"\"\n",
        "    X_seq, y_seq = [], []\n",
        "\n",
        "    for i in range(sequence_length, len(X)):\n",
        "        X_seq.append(X[i-sequence_length:i])\n",
        "        y_seq.append(y[i])\n",
        "\n",
        "    return np.array(X_seq), np.array(y_seq)\n",
        "\n",
        "def create_test_sequences(X, sequence_length=24):\n",
        "    \"\"\"Create sequences for test data\"\"\"\n",
        "    X_seq = []\n",
        "\n",
        "    for i in range(sequence_length, len(X)):\n",
        "        X_seq.append(X[i-sequence_length:i])\n",
        "\n",
        "    return np.array(X_seq)\n",
        "\n",
        "# Advanced scaling with multiple scalers\n",
        "print(\"Applying advanced scaling...\")\n",
        "\n",
        "# Use RobustScaler for better handling of outliers\n",
        "feature_scaler = RobustScaler()\n",
        "target_scaler = StandardScaler()\n",
        "\n",
        "# Scale features\n",
        "X_train_scaled = feature_scaler.fit_transform(X_train_features)\n",
        "X_test_scaled = feature_scaler.transform(X_test_features)\n",
        "\n",
        "# Scale target\n",
        "y_train_scaled = target_scaler.fit_transform(y_train.values.reshape(-1, 1)).flatten()\n",
        "\n",
        "# Create sequences for LSTM\n",
        "SEQUENCE_LENGTH = 48  # Use 48 hours of data to predict next hour\n",
        "print(f\"Creating sequences with length: {SEQUENCE_LENGTH}\")\n",
        "\n",
        "X_train_seq, y_train_seq = create_sequences(X_train_scaled, y_train_scaled, SEQUENCE_LENGTH)\n",
        "X_test_seq = create_test_sequences(X_test_scaled, SEQUENCE_LENGTH)\n",
        "\n",
        "print(f\"Training sequences shape: {X_train_seq.shape}\")\n",
        "print(f\"Training targets shape: {y_train_seq.shape}\")\n",
        "print(f\"Test sequences shape: {X_test_seq.shape}\")\n",
        "\n",
        "# Split into train and validation for better evaluation\n",
        "split_idx = int(0.85 * len(X_train_seq))\n",
        "X_train_final = X_train_seq[:split_idx]\n",
        "y_train_final = y_train_seq[:split_idx]\n",
        "X_val_final = X_train_seq[split_idx:]\n",
        "y_val_final = y_train_seq[split_idx:]\n",
        "\n",
        "print(f\"Final training shape: {X_train_final.shape}\")\n",
        "print(f\"Final validation shape: {X_val_final.shape}\")"
      ]
    },
    {
      "cell_type": "markdown",
      "metadata": {
        "id": "d488782wuR2W"
      },
      "source": [
        "# Build model\n",
        "\n",
        "Below is a simple LSTM model. Your task is to experiment with different parameters like, numbers of layers, units, activation functions, and optimizers, etc to get the best performing model. Experiment with other optimizers (e.g., SGD) or hyperparameters to improve performance."
      ]
    },
    {
      "cell_type": "code",
      "execution_count": 11,
      "metadata": {
        "colab": {
          "base_uri": "https://localhost:8080/",
          "height": 1000
        },
        "id": "mlGQCR1zvjcq",
        "outputId": "7ba868a9-0ad1-4b3b-873f-6fddd5e37609"
      },
      "outputs": [
        {
          "output_type": "stream",
          "name": "stdout",
          "text": [
            "Building advanced LSTM model...\n",
            "LSTM Model Architecture:\n"
          ]
        },
        {
          "output_type": "display_data",
          "data": {
            "text/plain": [
              "\u001b[1mModel: \"functional\"\u001b[0m\n"
            ],
            "text/html": [
              "<pre style=\"white-space:pre;overflow-x:auto;line-height:normal;font-family:Menlo,'DejaVu Sans Mono',consolas,'Courier New',monospace\"><span style=\"font-weight: bold\">Model: \"functional\"</span>\n",
              "</pre>\n"
            ]
          },
          "metadata": {}
        },
        {
          "output_type": "display_data",
          "data": {
            "text/plain": [
              "┏━━━━━━━━━━━━━━━━━━━━━━━━━━━━━━━━━┳━━━━━━━━━━━━━━━━━━━━━━━━┳━━━━━━━━━━━━━━━┓\n",
              "┃\u001b[1m \u001b[0m\u001b[1mLayer (type)                   \u001b[0m\u001b[1m \u001b[0m┃\u001b[1m \u001b[0m\u001b[1mOutput Shape          \u001b[0m\u001b[1m \u001b[0m┃\u001b[1m \u001b[0m\u001b[1m      Param #\u001b[0m\u001b[1m \u001b[0m┃\n",
              "┡━━━━━━━━━━━━━━━━━━━━━━━━━━━━━━━━━╇━━━━━━━━━━━━━━━━━━━━━━━━╇━━━━━━━━━━━━━━━┩\n",
              "│ input_layer (\u001b[38;5;33mInputLayer\u001b[0m)        │ (\u001b[38;5;45mNone\u001b[0m, \u001b[38;5;34m48\u001b[0m, \u001b[38;5;34m112\u001b[0m)        │             \u001b[38;5;34m0\u001b[0m │\n",
              "├─────────────────────────────────┼────────────────────────┼───────────────┤\n",
              "│ bidirectional (\u001b[38;5;33mBidirectional\u001b[0m)   │ (\u001b[38;5;45mNone\u001b[0m, \u001b[38;5;34m48\u001b[0m, \u001b[38;5;34m256\u001b[0m)        │       \u001b[38;5;34m246,784\u001b[0m │\n",
              "├─────────────────────────────────┼────────────────────────┼───────────────┤\n",
              "│ batch_normalization             │ (\u001b[38;5;45mNone\u001b[0m, \u001b[38;5;34m48\u001b[0m, \u001b[38;5;34m256\u001b[0m)        │         \u001b[38;5;34m1,024\u001b[0m │\n",
              "│ (\u001b[38;5;33mBatchNormalization\u001b[0m)            │                        │               │\n",
              "├─────────────────────────────────┼────────────────────────┼───────────────┤\n",
              "│ bidirectional_1 (\u001b[38;5;33mBidirectional\u001b[0m) │ (\u001b[38;5;45mNone\u001b[0m, \u001b[38;5;34m48\u001b[0m, \u001b[38;5;34m128\u001b[0m)        │       \u001b[38;5;34m164,352\u001b[0m │\n",
              "├─────────────────────────────────┼────────────────────────┼───────────────┤\n",
              "│ batch_normalization_1           │ (\u001b[38;5;45mNone\u001b[0m, \u001b[38;5;34m48\u001b[0m, \u001b[38;5;34m128\u001b[0m)        │           \u001b[38;5;34m512\u001b[0m │\n",
              "│ (\u001b[38;5;33mBatchNormalization\u001b[0m)            │                        │               │\n",
              "├─────────────────────────────────┼────────────────────────┼───────────────┤\n",
              "│ lstm_2 (\u001b[38;5;33mLSTM\u001b[0m)                   │ (\u001b[38;5;45mNone\u001b[0m, \u001b[38;5;34m32\u001b[0m)             │        \u001b[38;5;34m20,608\u001b[0m │\n",
              "├─────────────────────────────────┼────────────────────────┼───────────────┤\n",
              "│ batch_normalization_2           │ (\u001b[38;5;45mNone\u001b[0m, \u001b[38;5;34m32\u001b[0m)             │           \u001b[38;5;34m128\u001b[0m │\n",
              "│ (\u001b[38;5;33mBatchNormalization\u001b[0m)            │                        │               │\n",
              "├─────────────────────────────────┼────────────────────────┼───────────────┤\n",
              "│ dense (\u001b[38;5;33mDense\u001b[0m)                   │ (\u001b[38;5;45mNone\u001b[0m, \u001b[38;5;34m128\u001b[0m)            │         \u001b[38;5;34m4,224\u001b[0m │\n",
              "├─────────────────────────────────┼────────────────────────┼───────────────┤\n",
              "│ batch_normalization_3           │ (\u001b[38;5;45mNone\u001b[0m, \u001b[38;5;34m128\u001b[0m)            │           \u001b[38;5;34m512\u001b[0m │\n",
              "│ (\u001b[38;5;33mBatchNormalization\u001b[0m)            │                        │               │\n",
              "├─────────────────────────────────┼────────────────────────┼───────────────┤\n",
              "│ dropout (\u001b[38;5;33mDropout\u001b[0m)               │ (\u001b[38;5;45mNone\u001b[0m, \u001b[38;5;34m128\u001b[0m)            │             \u001b[38;5;34m0\u001b[0m │\n",
              "├─────────────────────────────────┼────────────────────────┼───────────────┤\n",
              "│ dense_1 (\u001b[38;5;33mDense\u001b[0m)                 │ (\u001b[38;5;45mNone\u001b[0m, \u001b[38;5;34m64\u001b[0m)             │         \u001b[38;5;34m8,256\u001b[0m │\n",
              "├─────────────────────────────────┼────────────────────────┼───────────────┤\n",
              "│ batch_normalization_4           │ (\u001b[38;5;45mNone\u001b[0m, \u001b[38;5;34m64\u001b[0m)             │           \u001b[38;5;34m256\u001b[0m │\n",
              "│ (\u001b[38;5;33mBatchNormalization\u001b[0m)            │                        │               │\n",
              "├─────────────────────────────────┼────────────────────────┼───────────────┤\n",
              "│ dropout_1 (\u001b[38;5;33mDropout\u001b[0m)             │ (\u001b[38;5;45mNone\u001b[0m, \u001b[38;5;34m64\u001b[0m)             │             \u001b[38;5;34m0\u001b[0m │\n",
              "├─────────────────────────────────┼────────────────────────┼───────────────┤\n",
              "│ dense_2 (\u001b[38;5;33mDense\u001b[0m)                 │ (\u001b[38;5;45mNone\u001b[0m, \u001b[38;5;34m32\u001b[0m)             │         \u001b[38;5;34m2,080\u001b[0m │\n",
              "├─────────────────────────────────┼────────────────────────┼───────────────┤\n",
              "│ batch_normalization_5           │ (\u001b[38;5;45mNone\u001b[0m, \u001b[38;5;34m32\u001b[0m)             │           \u001b[38;5;34m128\u001b[0m │\n",
              "│ (\u001b[38;5;33mBatchNormalization\u001b[0m)            │                        │               │\n",
              "├─────────────────────────────────┼────────────────────────┼───────────────┤\n",
              "│ dropout_2 (\u001b[38;5;33mDropout\u001b[0m)             │ (\u001b[38;5;45mNone\u001b[0m, \u001b[38;5;34m32\u001b[0m)             │             \u001b[38;5;34m0\u001b[0m │\n",
              "├─────────────────────────────────┼────────────────────────┼───────────────┤\n",
              "│ dense_3 (\u001b[38;5;33mDense\u001b[0m)                 │ (\u001b[38;5;45mNone\u001b[0m, \u001b[38;5;34m1\u001b[0m)              │            \u001b[38;5;34m33\u001b[0m │\n",
              "└─────────────────────────────────┴────────────────────────┴───────────────┘\n"
            ],
            "text/html": [
              "<pre style=\"white-space:pre;overflow-x:auto;line-height:normal;font-family:Menlo,'DejaVu Sans Mono',consolas,'Courier New',monospace\">┏━━━━━━━━━━━━━━━━━━━━━━━━━━━━━━━━━┳━━━━━━━━━━━━━━━━━━━━━━━━┳━━━━━━━━━━━━━━━┓\n",
              "┃<span style=\"font-weight: bold\"> Layer (type)                    </span>┃<span style=\"font-weight: bold\"> Output Shape           </span>┃<span style=\"font-weight: bold\">       Param # </span>┃\n",
              "┡━━━━━━━━━━━━━━━━━━━━━━━━━━━━━━━━━╇━━━━━━━━━━━━━━━━━━━━━━━━╇━━━━━━━━━━━━━━━┩\n",
              "│ input_layer (<span style=\"color: #0087ff; text-decoration-color: #0087ff\">InputLayer</span>)        │ (<span style=\"color: #00d7ff; text-decoration-color: #00d7ff\">None</span>, <span style=\"color: #00af00; text-decoration-color: #00af00\">48</span>, <span style=\"color: #00af00; text-decoration-color: #00af00\">112</span>)        │             <span style=\"color: #00af00; text-decoration-color: #00af00\">0</span> │\n",
              "├─────────────────────────────────┼────────────────────────┼───────────────┤\n",
              "│ bidirectional (<span style=\"color: #0087ff; text-decoration-color: #0087ff\">Bidirectional</span>)   │ (<span style=\"color: #00d7ff; text-decoration-color: #00d7ff\">None</span>, <span style=\"color: #00af00; text-decoration-color: #00af00\">48</span>, <span style=\"color: #00af00; text-decoration-color: #00af00\">256</span>)        │       <span style=\"color: #00af00; text-decoration-color: #00af00\">246,784</span> │\n",
              "├─────────────────────────────────┼────────────────────────┼───────────────┤\n",
              "│ batch_normalization             │ (<span style=\"color: #00d7ff; text-decoration-color: #00d7ff\">None</span>, <span style=\"color: #00af00; text-decoration-color: #00af00\">48</span>, <span style=\"color: #00af00; text-decoration-color: #00af00\">256</span>)        │         <span style=\"color: #00af00; text-decoration-color: #00af00\">1,024</span> │\n",
              "│ (<span style=\"color: #0087ff; text-decoration-color: #0087ff\">BatchNormalization</span>)            │                        │               │\n",
              "├─────────────────────────────────┼────────────────────────┼───────────────┤\n",
              "│ bidirectional_1 (<span style=\"color: #0087ff; text-decoration-color: #0087ff\">Bidirectional</span>) │ (<span style=\"color: #00d7ff; text-decoration-color: #00d7ff\">None</span>, <span style=\"color: #00af00; text-decoration-color: #00af00\">48</span>, <span style=\"color: #00af00; text-decoration-color: #00af00\">128</span>)        │       <span style=\"color: #00af00; text-decoration-color: #00af00\">164,352</span> │\n",
              "├─────────────────────────────────┼────────────────────────┼───────────────┤\n",
              "│ batch_normalization_1           │ (<span style=\"color: #00d7ff; text-decoration-color: #00d7ff\">None</span>, <span style=\"color: #00af00; text-decoration-color: #00af00\">48</span>, <span style=\"color: #00af00; text-decoration-color: #00af00\">128</span>)        │           <span style=\"color: #00af00; text-decoration-color: #00af00\">512</span> │\n",
              "│ (<span style=\"color: #0087ff; text-decoration-color: #0087ff\">BatchNormalization</span>)            │                        │               │\n",
              "├─────────────────────────────────┼────────────────────────┼───────────────┤\n",
              "│ lstm_2 (<span style=\"color: #0087ff; text-decoration-color: #0087ff\">LSTM</span>)                   │ (<span style=\"color: #00d7ff; text-decoration-color: #00d7ff\">None</span>, <span style=\"color: #00af00; text-decoration-color: #00af00\">32</span>)             │        <span style=\"color: #00af00; text-decoration-color: #00af00\">20,608</span> │\n",
              "├─────────────────────────────────┼────────────────────────┼───────────────┤\n",
              "│ batch_normalization_2           │ (<span style=\"color: #00d7ff; text-decoration-color: #00d7ff\">None</span>, <span style=\"color: #00af00; text-decoration-color: #00af00\">32</span>)             │           <span style=\"color: #00af00; text-decoration-color: #00af00\">128</span> │\n",
              "│ (<span style=\"color: #0087ff; text-decoration-color: #0087ff\">BatchNormalization</span>)            │                        │               │\n",
              "├─────────────────────────────────┼────────────────────────┼───────────────┤\n",
              "│ dense (<span style=\"color: #0087ff; text-decoration-color: #0087ff\">Dense</span>)                   │ (<span style=\"color: #00d7ff; text-decoration-color: #00d7ff\">None</span>, <span style=\"color: #00af00; text-decoration-color: #00af00\">128</span>)            │         <span style=\"color: #00af00; text-decoration-color: #00af00\">4,224</span> │\n",
              "├─────────────────────────────────┼────────────────────────┼───────────────┤\n",
              "│ batch_normalization_3           │ (<span style=\"color: #00d7ff; text-decoration-color: #00d7ff\">None</span>, <span style=\"color: #00af00; text-decoration-color: #00af00\">128</span>)            │           <span style=\"color: #00af00; text-decoration-color: #00af00\">512</span> │\n",
              "│ (<span style=\"color: #0087ff; text-decoration-color: #0087ff\">BatchNormalization</span>)            │                        │               │\n",
              "├─────────────────────────────────┼────────────────────────┼───────────────┤\n",
              "│ dropout (<span style=\"color: #0087ff; text-decoration-color: #0087ff\">Dropout</span>)               │ (<span style=\"color: #00d7ff; text-decoration-color: #00d7ff\">None</span>, <span style=\"color: #00af00; text-decoration-color: #00af00\">128</span>)            │             <span style=\"color: #00af00; text-decoration-color: #00af00\">0</span> │\n",
              "├─────────────────────────────────┼────────────────────────┼───────────────┤\n",
              "│ dense_1 (<span style=\"color: #0087ff; text-decoration-color: #0087ff\">Dense</span>)                 │ (<span style=\"color: #00d7ff; text-decoration-color: #00d7ff\">None</span>, <span style=\"color: #00af00; text-decoration-color: #00af00\">64</span>)             │         <span style=\"color: #00af00; text-decoration-color: #00af00\">8,256</span> │\n",
              "├─────────────────────────────────┼────────────────────────┼───────────────┤\n",
              "│ batch_normalization_4           │ (<span style=\"color: #00d7ff; text-decoration-color: #00d7ff\">None</span>, <span style=\"color: #00af00; text-decoration-color: #00af00\">64</span>)             │           <span style=\"color: #00af00; text-decoration-color: #00af00\">256</span> │\n",
              "│ (<span style=\"color: #0087ff; text-decoration-color: #0087ff\">BatchNormalization</span>)            │                        │               │\n",
              "├─────────────────────────────────┼────────────────────────┼───────────────┤\n",
              "│ dropout_1 (<span style=\"color: #0087ff; text-decoration-color: #0087ff\">Dropout</span>)             │ (<span style=\"color: #00d7ff; text-decoration-color: #00d7ff\">None</span>, <span style=\"color: #00af00; text-decoration-color: #00af00\">64</span>)             │             <span style=\"color: #00af00; text-decoration-color: #00af00\">0</span> │\n",
              "├─────────────────────────────────┼────────────────────────┼───────────────┤\n",
              "│ dense_2 (<span style=\"color: #0087ff; text-decoration-color: #0087ff\">Dense</span>)                 │ (<span style=\"color: #00d7ff; text-decoration-color: #00d7ff\">None</span>, <span style=\"color: #00af00; text-decoration-color: #00af00\">32</span>)             │         <span style=\"color: #00af00; text-decoration-color: #00af00\">2,080</span> │\n",
              "├─────────────────────────────────┼────────────────────────┼───────────────┤\n",
              "│ batch_normalization_5           │ (<span style=\"color: #00d7ff; text-decoration-color: #00d7ff\">None</span>, <span style=\"color: #00af00; text-decoration-color: #00af00\">32</span>)             │           <span style=\"color: #00af00; text-decoration-color: #00af00\">128</span> │\n",
              "│ (<span style=\"color: #0087ff; text-decoration-color: #0087ff\">BatchNormalization</span>)            │                        │               │\n",
              "├─────────────────────────────────┼────────────────────────┼───────────────┤\n",
              "│ dropout_2 (<span style=\"color: #0087ff; text-decoration-color: #0087ff\">Dropout</span>)             │ (<span style=\"color: #00d7ff; text-decoration-color: #00d7ff\">None</span>, <span style=\"color: #00af00; text-decoration-color: #00af00\">32</span>)             │             <span style=\"color: #00af00; text-decoration-color: #00af00\">0</span> │\n",
              "├─────────────────────────────────┼────────────────────────┼───────────────┤\n",
              "│ dense_3 (<span style=\"color: #0087ff; text-decoration-color: #0087ff\">Dense</span>)                 │ (<span style=\"color: #00d7ff; text-decoration-color: #00d7ff\">None</span>, <span style=\"color: #00af00; text-decoration-color: #00af00\">1</span>)              │            <span style=\"color: #00af00; text-decoration-color: #00af00\">33</span> │\n",
              "└─────────────────────────────────┴────────────────────────┴───────────────┘\n",
              "</pre>\n"
            ]
          },
          "metadata": {}
        },
        {
          "output_type": "display_data",
          "data": {
            "text/plain": [
              "\u001b[1m Total params: \u001b[0m\u001b[38;5;34m448,897\u001b[0m (1.71 MB)\n"
            ],
            "text/html": [
              "<pre style=\"white-space:pre;overflow-x:auto;line-height:normal;font-family:Menlo,'DejaVu Sans Mono',consolas,'Courier New',monospace\"><span style=\"font-weight: bold\"> Total params: </span><span style=\"color: #00af00; text-decoration-color: #00af00\">448,897</span> (1.71 MB)\n",
              "</pre>\n"
            ]
          },
          "metadata": {}
        },
        {
          "output_type": "display_data",
          "data": {
            "text/plain": [
              "\u001b[1m Trainable params: \u001b[0m\u001b[38;5;34m447,617\u001b[0m (1.71 MB)\n"
            ],
            "text/html": [
              "<pre style=\"white-space:pre;overflow-x:auto;line-height:normal;font-family:Menlo,'DejaVu Sans Mono',consolas,'Courier New',monospace\"><span style=\"font-weight: bold\"> Trainable params: </span><span style=\"color: #00af00; text-decoration-color: #00af00\">447,617</span> (1.71 MB)\n",
              "</pre>\n"
            ]
          },
          "metadata": {}
        },
        {
          "output_type": "display_data",
          "data": {
            "text/plain": [
              "\u001b[1m Non-trainable params: \u001b[0m\u001b[38;5;34m1,280\u001b[0m (5.00 KB)\n"
            ],
            "text/html": [
              "<pre style=\"white-space:pre;overflow-x:auto;line-height:normal;font-family:Menlo,'DejaVu Sans Mono',consolas,'Courier New',monospace\"><span style=\"font-weight: bold\"> Non-trainable params: </span><span style=\"color: #00af00; text-decoration-color: #00af00\">1,280</span> (5.00 KB)\n",
              "</pre>\n"
            ]
          },
          "metadata": {}
        },
        {
          "output_type": "stream",
          "name": "stdout",
          "text": [
            "\n",
            "Building GRU model for ensemble...\n",
            "GRU Model Architecture:\n"
          ]
        },
        {
          "output_type": "display_data",
          "data": {
            "text/plain": [
              "\u001b[1mModel: \"functional_1\"\u001b[0m\n"
            ],
            "text/html": [
              "<pre style=\"white-space:pre;overflow-x:auto;line-height:normal;font-family:Menlo,'DejaVu Sans Mono',consolas,'Courier New',monospace\"><span style=\"font-weight: bold\">Model: \"functional_1\"</span>\n",
              "</pre>\n"
            ]
          },
          "metadata": {}
        },
        {
          "output_type": "display_data",
          "data": {
            "text/plain": [
              "┏━━━━━━━━━━━━━━━━━━━━━━━━━━━━━━━━━┳━━━━━━━━━━━━━━━━━━━━━━━━┳━━━━━━━━━━━━━━━┓\n",
              "┃\u001b[1m \u001b[0m\u001b[1mLayer (type)                   \u001b[0m\u001b[1m \u001b[0m┃\u001b[1m \u001b[0m\u001b[1mOutput Shape          \u001b[0m\u001b[1m \u001b[0m┃\u001b[1m \u001b[0m\u001b[1m      Param #\u001b[0m\u001b[1m \u001b[0m┃\n",
              "┡━━━━━━━━━━━━━━━━━━━━━━━━━━━━━━━━━╇━━━━━━━━━━━━━━━━━━━━━━━━╇━━━━━━━━━━━━━━━┩\n",
              "│ input_layer_1 (\u001b[38;5;33mInputLayer\u001b[0m)      │ (\u001b[38;5;45mNone\u001b[0m, \u001b[38;5;34m48\u001b[0m, \u001b[38;5;34m112\u001b[0m)        │             \u001b[38;5;34m0\u001b[0m │\n",
              "├─────────────────────────────────┼────────────────────────┼───────────────┤\n",
              "│ bidirectional_2 (\u001b[38;5;33mBidirectional\u001b[0m) │ (\u001b[38;5;45mNone\u001b[0m, \u001b[38;5;34m48\u001b[0m, \u001b[38;5;34m192\u001b[0m)        │       \u001b[38;5;34m120,960\u001b[0m │\n",
              "├─────────────────────────────────┼────────────────────────┼───────────────┤\n",
              "│ batch_normalization_6           │ (\u001b[38;5;45mNone\u001b[0m, \u001b[38;5;34m48\u001b[0m, \u001b[38;5;34m192\u001b[0m)        │           \u001b[38;5;34m768\u001b[0m │\n",
              "│ (\u001b[38;5;33mBatchNormalization\u001b[0m)            │                        │               │\n",
              "├─────────────────────────────────┼────────────────────────┼───────────────┤\n",
              "│ gru_1 (\u001b[38;5;33mGRU\u001b[0m)                     │ (\u001b[38;5;45mNone\u001b[0m, \u001b[38;5;34m48\u001b[0m)             │        \u001b[38;5;34m34,848\u001b[0m │\n",
              "├─────────────────────────────────┼────────────────────────┼───────────────┤\n",
              "│ batch_normalization_7           │ (\u001b[38;5;45mNone\u001b[0m, \u001b[38;5;34m48\u001b[0m)             │           \u001b[38;5;34m192\u001b[0m │\n",
              "│ (\u001b[38;5;33mBatchNormalization\u001b[0m)            │                        │               │\n",
              "├─────────────────────────────────┼────────────────────────┼───────────────┤\n",
              "│ dense_4 (\u001b[38;5;33mDense\u001b[0m)                 │ (\u001b[38;5;45mNone\u001b[0m, \u001b[38;5;34m96\u001b[0m)             │         \u001b[38;5;34m4,704\u001b[0m │\n",
              "├─────────────────────────────────┼────────────────────────┼───────────────┤\n",
              "│ batch_normalization_8           │ (\u001b[38;5;45mNone\u001b[0m, \u001b[38;5;34m96\u001b[0m)             │           \u001b[38;5;34m384\u001b[0m │\n",
              "│ (\u001b[38;5;33mBatchNormalization\u001b[0m)            │                        │               │\n",
              "├─────────────────────────────────┼────────────────────────┼───────────────┤\n",
              "│ dropout_3 (\u001b[38;5;33mDropout\u001b[0m)             │ (\u001b[38;5;45mNone\u001b[0m, \u001b[38;5;34m96\u001b[0m)             │             \u001b[38;5;34m0\u001b[0m │\n",
              "├─────────────────────────────────┼────────────────────────┼───────────────┤\n",
              "│ dense_5 (\u001b[38;5;33mDense\u001b[0m)                 │ (\u001b[38;5;45mNone\u001b[0m, \u001b[38;5;34m48\u001b[0m)             │         \u001b[38;5;34m4,656\u001b[0m │\n",
              "├─────────────────────────────────┼────────────────────────┼───────────────┤\n",
              "│ dropout_4 (\u001b[38;5;33mDropout\u001b[0m)             │ (\u001b[38;5;45mNone\u001b[0m, \u001b[38;5;34m48\u001b[0m)             │             \u001b[38;5;34m0\u001b[0m │\n",
              "├─────────────────────────────────┼────────────────────────┼───────────────┤\n",
              "│ dense_6 (\u001b[38;5;33mDense\u001b[0m)                 │ (\u001b[38;5;45mNone\u001b[0m, \u001b[38;5;34m1\u001b[0m)              │            \u001b[38;5;34m49\u001b[0m │\n",
              "└─────────────────────────────────┴────────────────────────┴───────────────┘\n"
            ],
            "text/html": [
              "<pre style=\"white-space:pre;overflow-x:auto;line-height:normal;font-family:Menlo,'DejaVu Sans Mono',consolas,'Courier New',monospace\">┏━━━━━━━━━━━━━━━━━━━━━━━━━━━━━━━━━┳━━━━━━━━━━━━━━━━━━━━━━━━┳━━━━━━━━━━━━━━━┓\n",
              "┃<span style=\"font-weight: bold\"> Layer (type)                    </span>┃<span style=\"font-weight: bold\"> Output Shape           </span>┃<span style=\"font-weight: bold\">       Param # </span>┃\n",
              "┡━━━━━━━━━━━━━━━━━━━━━━━━━━━━━━━━━╇━━━━━━━━━━━━━━━━━━━━━━━━╇━━━━━━━━━━━━━━━┩\n",
              "│ input_layer_1 (<span style=\"color: #0087ff; text-decoration-color: #0087ff\">InputLayer</span>)      │ (<span style=\"color: #00d7ff; text-decoration-color: #00d7ff\">None</span>, <span style=\"color: #00af00; text-decoration-color: #00af00\">48</span>, <span style=\"color: #00af00; text-decoration-color: #00af00\">112</span>)        │             <span style=\"color: #00af00; text-decoration-color: #00af00\">0</span> │\n",
              "├─────────────────────────────────┼────────────────────────┼───────────────┤\n",
              "│ bidirectional_2 (<span style=\"color: #0087ff; text-decoration-color: #0087ff\">Bidirectional</span>) │ (<span style=\"color: #00d7ff; text-decoration-color: #00d7ff\">None</span>, <span style=\"color: #00af00; text-decoration-color: #00af00\">48</span>, <span style=\"color: #00af00; text-decoration-color: #00af00\">192</span>)        │       <span style=\"color: #00af00; text-decoration-color: #00af00\">120,960</span> │\n",
              "├─────────────────────────────────┼────────────────────────┼───────────────┤\n",
              "│ batch_normalization_6           │ (<span style=\"color: #00d7ff; text-decoration-color: #00d7ff\">None</span>, <span style=\"color: #00af00; text-decoration-color: #00af00\">48</span>, <span style=\"color: #00af00; text-decoration-color: #00af00\">192</span>)        │           <span style=\"color: #00af00; text-decoration-color: #00af00\">768</span> │\n",
              "│ (<span style=\"color: #0087ff; text-decoration-color: #0087ff\">BatchNormalization</span>)            │                        │               │\n",
              "├─────────────────────────────────┼────────────────────────┼───────────────┤\n",
              "│ gru_1 (<span style=\"color: #0087ff; text-decoration-color: #0087ff\">GRU</span>)                     │ (<span style=\"color: #00d7ff; text-decoration-color: #00d7ff\">None</span>, <span style=\"color: #00af00; text-decoration-color: #00af00\">48</span>)             │        <span style=\"color: #00af00; text-decoration-color: #00af00\">34,848</span> │\n",
              "├─────────────────────────────────┼────────────────────────┼───────────────┤\n",
              "│ batch_normalization_7           │ (<span style=\"color: #00d7ff; text-decoration-color: #00d7ff\">None</span>, <span style=\"color: #00af00; text-decoration-color: #00af00\">48</span>)             │           <span style=\"color: #00af00; text-decoration-color: #00af00\">192</span> │\n",
              "│ (<span style=\"color: #0087ff; text-decoration-color: #0087ff\">BatchNormalization</span>)            │                        │               │\n",
              "├─────────────────────────────────┼────────────────────────┼───────────────┤\n",
              "│ dense_4 (<span style=\"color: #0087ff; text-decoration-color: #0087ff\">Dense</span>)                 │ (<span style=\"color: #00d7ff; text-decoration-color: #00d7ff\">None</span>, <span style=\"color: #00af00; text-decoration-color: #00af00\">96</span>)             │         <span style=\"color: #00af00; text-decoration-color: #00af00\">4,704</span> │\n",
              "├─────────────────────────────────┼────────────────────────┼───────────────┤\n",
              "│ batch_normalization_8           │ (<span style=\"color: #00d7ff; text-decoration-color: #00d7ff\">None</span>, <span style=\"color: #00af00; text-decoration-color: #00af00\">96</span>)             │           <span style=\"color: #00af00; text-decoration-color: #00af00\">384</span> │\n",
              "│ (<span style=\"color: #0087ff; text-decoration-color: #0087ff\">BatchNormalization</span>)            │                        │               │\n",
              "├─────────────────────────────────┼────────────────────────┼───────────────┤\n",
              "│ dropout_3 (<span style=\"color: #0087ff; text-decoration-color: #0087ff\">Dropout</span>)             │ (<span style=\"color: #00d7ff; text-decoration-color: #00d7ff\">None</span>, <span style=\"color: #00af00; text-decoration-color: #00af00\">96</span>)             │             <span style=\"color: #00af00; text-decoration-color: #00af00\">0</span> │\n",
              "├─────────────────────────────────┼────────────────────────┼───────────────┤\n",
              "│ dense_5 (<span style=\"color: #0087ff; text-decoration-color: #0087ff\">Dense</span>)                 │ (<span style=\"color: #00d7ff; text-decoration-color: #00d7ff\">None</span>, <span style=\"color: #00af00; text-decoration-color: #00af00\">48</span>)             │         <span style=\"color: #00af00; text-decoration-color: #00af00\">4,656</span> │\n",
              "├─────────────────────────────────┼────────────────────────┼───────────────┤\n",
              "│ dropout_4 (<span style=\"color: #0087ff; text-decoration-color: #0087ff\">Dropout</span>)             │ (<span style=\"color: #00d7ff; text-decoration-color: #00d7ff\">None</span>, <span style=\"color: #00af00; text-decoration-color: #00af00\">48</span>)             │             <span style=\"color: #00af00; text-decoration-color: #00af00\">0</span> │\n",
              "├─────────────────────────────────┼────────────────────────┼───────────────┤\n",
              "│ dense_6 (<span style=\"color: #0087ff; text-decoration-color: #0087ff\">Dense</span>)                 │ (<span style=\"color: #00d7ff; text-decoration-color: #00d7ff\">None</span>, <span style=\"color: #00af00; text-decoration-color: #00af00\">1</span>)              │            <span style=\"color: #00af00; text-decoration-color: #00af00\">49</span> │\n",
              "└─────────────────────────────────┴────────────────────────┴───────────────┘\n",
              "</pre>\n"
            ]
          },
          "metadata": {}
        },
        {
          "output_type": "display_data",
          "data": {
            "text/plain": [
              "\u001b[1m Total params: \u001b[0m\u001b[38;5;34m166,561\u001b[0m (650.63 KB)\n"
            ],
            "text/html": [
              "<pre style=\"white-space:pre;overflow-x:auto;line-height:normal;font-family:Menlo,'DejaVu Sans Mono',consolas,'Courier New',monospace\"><span style=\"font-weight: bold\"> Total params: </span><span style=\"color: #00af00; text-decoration-color: #00af00\">166,561</span> (650.63 KB)\n",
              "</pre>\n"
            ]
          },
          "metadata": {}
        },
        {
          "output_type": "display_data",
          "data": {
            "text/plain": [
              "\u001b[1m Trainable params: \u001b[0m\u001b[38;5;34m165,889\u001b[0m (648.00 KB)\n"
            ],
            "text/html": [
              "<pre style=\"white-space:pre;overflow-x:auto;line-height:normal;font-family:Menlo,'DejaVu Sans Mono',consolas,'Courier New',monospace\"><span style=\"font-weight: bold\"> Trainable params: </span><span style=\"color: #00af00; text-decoration-color: #00af00\">165,889</span> (648.00 KB)\n",
              "</pre>\n"
            ]
          },
          "metadata": {}
        },
        {
          "output_type": "display_data",
          "data": {
            "text/plain": [
              "\u001b[1m Non-trainable params: \u001b[0m\u001b[38;5;34m672\u001b[0m (2.62 KB)\n"
            ],
            "text/html": [
              "<pre style=\"white-space:pre;overflow-x:auto;line-height:normal;font-family:Menlo,'DejaVu Sans Mono',consolas,'Courier New',monospace\"><span style=\"font-weight: bold\"> Non-trainable params: </span><span style=\"color: #00af00; text-decoration-color: #00af00\">672</span> (2.62 KB)\n",
              "</pre>\n"
            ]
          },
          "metadata": {}
        }
      ],
      "source": [
        "# Advanced LSTM Architecture with Attention and Bidirectional Layers\n",
        "def create_advanced_model(input_shape):\n",
        "    \"\"\"Create an advanced LSTM model with attention mechanism\"\"\"\n",
        "\n",
        "    # Input layer\n",
        "    inputs = Input(shape=input_shape)\n",
        "\n",
        "    # First LSTM layer - Bidirectional\n",
        "    lstm1 = Bidirectional(LSTM(128, return_sequences=True,\n",
        "                              dropout=0.2, recurrent_dropout=0.2))(inputs)\n",
        "    lstm1 = BatchNormalization()(lstm1)\n",
        "\n",
        "    # Second LSTM layer - Bidirectional\n",
        "    lstm2 = Bidirectional(LSTM(64, return_sequences=True,\n",
        "                              dropout=0.2, recurrent_dropout=0.2))(lstm1)\n",
        "    lstm2 = BatchNormalization()(lstm2)\n",
        "\n",
        "    # Third LSTM layer\n",
        "    lstm3 = LSTM(32, return_sequences=False,\n",
        "                 dropout=0.2, recurrent_dropout=0.2)(lstm2)\n",
        "    lstm3 = BatchNormalization()(lstm3)\n",
        "\n",
        "    # Dense layers with residual connections\n",
        "    dense1 = Dense(128, activation='relu')(lstm3)\n",
        "    dense1 = BatchNormalization()(dense1)\n",
        "    dense1 = Dropout(0.3)(dense1)\n",
        "\n",
        "    dense2 = Dense(64, activation='relu')(dense1)\n",
        "    dense2 = BatchNormalization()(dense2)\n",
        "    dense2 = Dropout(0.2)(dense2)\n",
        "\n",
        "    dense3 = Dense(32, activation='relu')(dense2)\n",
        "    dense3 = BatchNormalization()(dense3)\n",
        "    dense3 = Dropout(0.1)(dense3)\n",
        "\n",
        "    # Output layer\n",
        "    outputs = Dense(1, activation='linear')(dense3)\n",
        "\n",
        "    model = Model(inputs=inputs, outputs=outputs)\n",
        "\n",
        "    return model\n",
        "\n",
        "def create_gru_model(input_shape):\n",
        "    \"\"\"Create a GRU-based model for ensemble\"\"\"\n",
        "    inputs = Input(shape=input_shape)\n",
        "\n",
        "    # GRU layers\n",
        "    gru1 = Bidirectional(GRU(96, return_sequences=True,\n",
        "                            dropout=0.2, recurrent_dropout=0.2))(inputs)\n",
        "    gru1 = BatchNormalization()(gru1)\n",
        "\n",
        "    gru2 = GRU(48, return_sequences=False,\n",
        "               dropout=0.2, recurrent_dropout=0.2)(gru1)\n",
        "    gru2 = BatchNormalization()(gru2)\n",
        "\n",
        "    # Dense layers\n",
        "    dense1 = Dense(96, activation='relu')(gru2)\n",
        "    dense1 = BatchNormalization()(dense1)\n",
        "    dense1 = Dropout(0.2)(dense1)\n",
        "\n",
        "    dense2 = Dense(48, activation='relu')(dense1)\n",
        "    dense2 = Dropout(0.1)(dense2)\n",
        "\n",
        "    outputs = Dense(1, activation='linear')(dense2)\n",
        "\n",
        "    model = Model(inputs=inputs, outputs=outputs)\n",
        "    return model\n",
        "\n",
        "# Create the advanced LSTM model\n",
        "print(\"Building advanced LSTM model...\")\n",
        "lstm_model = create_advanced_model((X_train_final.shape[1], X_train_final.shape[2]))\n",
        "\n",
        "# Compile with advanced optimizer settings\n",
        "lstm_model.compile(\n",
        "    optimizer=Adam(learning_rate=0.001, beta_1=0.9, beta_2=0.999, epsilon=1e-7),\n",
        "    loss='huber',  # More robust to outliers than MSE\n",
        "    metrics=['mae', 'mse']\n",
        ")\n",
        "\n",
        "print(\"LSTM Model Architecture:\")\n",
        "lstm_model.summary()\n",
        "\n",
        "# Create GRU model for ensemble\n",
        "print(\"\\nBuilding GRU model for ensemble...\")\n",
        "gru_model = create_gru_model((X_train_final.shape[1], X_train_final.shape[2]))\n",
        "\n",
        "gru_model.compile(\n",
        "    optimizer=Adam(learning_rate=0.0008),\n",
        "    loss='huber',\n",
        "    metrics=['mae', 'mse']\n",
        ")\n",
        "\n",
        "print(\"GRU Model Architecture:\")\n",
        "gru_model.summary()"
      ]
    },
    {
      "cell_type": "code",
      "execution_count": null,
      "metadata": {
        "colab": {
          "base_uri": "https://localhost:8080/"
        },
        "id": "uM0Xuq7XvdTZ",
        "outputId": "bd54ea05-a059-492e-d2fc-8682c181ebe6"
      },
      "outputs": [
        {
          "output_type": "stream",
          "name": "stdout",
          "text": [
            "Training advanced models...\n",
            "Training LSTM model...\n",
            "Epoch 1/100\n",
            "\u001b[1m814/814\u001b[0m \u001b[32m━━━━━━━━━━━━━━━━━━━━\u001b[0m\u001b[37m\u001b[0m \u001b[1m0s\u001b[0m 410ms/step - loss: 0.2810 - mae: 0.6119 - mse: 0.7444\n",
            "Epoch 1: val_loss improved from inf to 0.28916, saving model to best_lstm_model.h5\n"
          ]
        },
        {
          "output_type": "stream",
          "name": "stderr",
          "text": [
            "WARNING:absl:You are saving your model as an HDF5 file via `model.save()` or `keras.saving.save_model(model)`. This file format is considered legacy. We recommend using instead the native Keras format, e.g. `model.save('my_model.keras')` or `keras.saving.save_model(model, 'my_model.keras')`. \n"
          ]
        },
        {
          "output_type": "stream",
          "name": "stdout",
          "text": [
            "\b\b\b\b\b\b\b\b\b\b\b\b\b\b\b\b\b\b\b\b\b\b\b\b\b\b\b\b\b\b\b\b\b\b\b\b\b\b\b\b\b\b\b\b\b\b\b\b\b\b\b\b\b\b\b\b\b\b\b\b\b\b\b\b\b\b\b\b\b\b\b\b\b\b\b\b\b\b\b\b\b\b\b\b\b\r\u001b[1m814/814\u001b[0m \u001b[32m━━━━━━━━━━━━━━━━━━━━\u001b[0m\u001b[37m\u001b[0m \u001b[1m355s\u001b[0m 436ms/step - loss: 0.2810 - mae: 0.6119 - mse: 0.7444 - val_loss: 0.2892 - val_mae: 0.5617 - val_mse: 0.9373 - learning_rate: 3.0000e-04\n",
            "Epoch 2/100\n",
            "\u001b[1m814/814\u001b[0m \u001b[32m━━━━━━━━━━━━━━━━━━━━\u001b[0m\u001b[37m\u001b[0m \u001b[1m0s\u001b[0m 408ms/step - loss: 0.2798 - mae: 0.6107 - mse: 0.7424\n",
            "Epoch 2: val_loss did not improve from 0.28916\n",
            "\u001b[1m814/814\u001b[0m \u001b[32m━━━━━━━━━━━━━━━━━━━━\u001b[0m\u001b[37m\u001b[0m \u001b[1m369s\u001b[0m 420ms/step - loss: 0.2798 - mae: 0.6107 - mse: 0.7424 - val_loss: 0.2921 - val_mae: 0.5664 - val_mse: 0.9514 - learning_rate: 3.0000e-04\n",
            "Epoch 3/100\n",
            "\u001b[1m814/814\u001b[0m \u001b[32m━━━━━━━━━━━━━━━━━━━━\u001b[0m\u001b[37m\u001b[0m \u001b[1m0s\u001b[0m 408ms/step - loss: 0.2794 - mae: 0.6111 - mse: 0.7397\n",
            "Epoch 3: val_loss improved from 0.28916 to 0.28232, saving model to best_lstm_model.h5\n"
          ]
        },
        {
          "output_type": "stream",
          "name": "stderr",
          "text": [
            "WARNING:absl:You are saving your model as an HDF5 file via `model.save()` or `keras.saving.save_model(model)`. This file format is considered legacy. We recommend using instead the native Keras format, e.g. `model.save('my_model.keras')` or `keras.saving.save_model(model, 'my_model.keras')`. \n"
          ]
        },
        {
          "output_type": "stream",
          "name": "stdout",
          "text": [
            "\b\b\b\b\b\b\b\b\b\b\b\b\b\b\b\b\b\b\b\b\b\b\b\b\b\b\b\b\b\b\b\b\b\b\b\b\b\b\b\b\b\b\b\b\b\b\b\b\b\b\b\b\b\b\b\b\b\b\b\b\b\b\b\b\b\b\b\b\b\b\b\b\b\b\b\b\b\b\b\b\b\b\b\b\b\r\u001b[1m814/814\u001b[0m \u001b[32m━━━━━━━━━━━━━━━━━━━━\u001b[0m\u001b[37m\u001b[0m \u001b[1m343s\u001b[0m 421ms/step - loss: 0.2794 - mae: 0.6111 - mse: 0.7397 - val_loss: 0.2823 - val_mae: 0.5460 - val_mse: 0.9229 - learning_rate: 3.0000e-04\n",
            "Epoch 4/100\n",
            "\u001b[1m814/814\u001b[0m \u001b[32m━━━━━━━━━━━━━━━━━━━━\u001b[0m\u001b[37m\u001b[0m \u001b[1m0s\u001b[0m 404ms/step - loss: 0.2799 - mae: 0.6116 - mse: 0.7425\n",
            "Epoch 4: val_loss improved from 0.28232 to 0.28163, saving model to best_lstm_model.h5\n"
          ]
        },
        {
          "output_type": "stream",
          "name": "stderr",
          "text": [
            "WARNING:absl:You are saving your model as an HDF5 file via `model.save()` or `keras.saving.save_model(model)`. This file format is considered legacy. We recommend using instead the native Keras format, e.g. `model.save('my_model.keras')` or `keras.saving.save_model(model, 'my_model.keras')`. \n"
          ]
        },
        {
          "output_type": "stream",
          "name": "stdout",
          "text": [
            "\b\b\b\b\b\b\b\b\b\b\b\b\b\b\b\b\b\b\b\b\b\b\b\b\b\b\b\b\b\b\b\b\b\b\b\b\b\b\b\b\b\b\b\b\b\b\b\b\b\b\b\b\b\b\b\b\b\b\b\b\b\b\b\b\b\b\b\b\b\b\b\b\b\b\b\b\b\b\b\b\b\b\b\b\b\r\u001b[1m814/814\u001b[0m \u001b[32m━━━━━━━━━━━━━━━━━━━━\u001b[0m\u001b[37m\u001b[0m \u001b[1m389s\u001b[0m 430ms/step - loss: 0.2799 - mae: 0.6116 - mse: 0.7425 - val_loss: 0.2816 - val_mae: 0.5414 - val_mse: 0.9145 - learning_rate: 3.0000e-04\n",
            "Epoch 5/100\n",
            "\u001b[1m814/814\u001b[0m \u001b[32m━━━━━━━━━━━━━━━━━━━━\u001b[0m\u001b[37m\u001b[0m \u001b[1m0s\u001b[0m 402ms/step - loss: 0.2791 - mae: 0.6095 - mse: 0.7396\n",
            "Epoch 5: val_loss did not improve from 0.28163\n",
            "\u001b[1m814/814\u001b[0m \u001b[32m━━━━━━━━━━━━━━━━━━━━\u001b[0m\u001b[37m\u001b[0m \u001b[1m337s\u001b[0m 414ms/step - loss: 0.2791 - mae: 0.6096 - mse: 0.7396 - val_loss: 0.2934 - val_mae: 0.5588 - val_mse: 0.9632 - learning_rate: 3.0000e-04\n",
            "Epoch 6/100\n",
            "\u001b[1m485/814\u001b[0m \u001b[32m━━━━━━━━━━━\u001b[0m\u001b[37m━━━━━━━━━\u001b[0m \u001b[1m2:15\u001b[0m 411ms/step - loss: 0.2700 - mae: 0.5972 - mse: 0.7163"
          ]
        }
      ],
      "source": [
        "# Advanced training with ensemble approach\n",
        "print(\"Training advanced models...\")\n",
        "\n",
        "# Enhanced callbacks\n",
        "def create_callbacks(model_name):\n",
        "    return [\n",
        "        EarlyStopping(\n",
        "            monitor='val_loss',\n",
        "            patience=7,\n",
        "            restore_best_weights=True,\n",
        "            verbose=1,\n",
        "            min_delta=0.001\n",
        "        ),\n",
        "        ReduceLROnPlateau(\n",
        "            monitor='val_loss',\n",
        "            factor=0.3,\n",
        "            patience=7,\n",
        "            min_lr=1e-7,\n",
        "            verbose=1,\n",
        "            cooldown=2\n",
        "        ),\n",
        "        ModelCheckpoint(\n",
        "            f'best_{model_name}_model.h5',\n",
        "            monitor='val_loss',\n",
        "            save_best_only=True,\n",
        "            verbose=1,\n",
        "            save_weights_only=False\n",
        "        )\n",
        "    ]\n",
        "\n",
        "# Train LSTM model\n",
        "print(\"Training LSTM model...\")\n",
        "lstm_callbacks = create_callbacks('lstm')\n",
        "\n",
        "lstm_history = lstm_model.fit(\n",
        "    X_train_final, y_train_final,\n",
        "    validation_data=(X_val_final, y_val_final),\n",
        "    epochs=100,\n",
        "    batch_size=32,\n",
        "    callbacks=lstm_callbacks,\n",
        "    verbose=1,\n",
        "    shuffle=False  # Important for time series\n",
        ")\n",
        "\n",
        "# Train GRU model\n",
        "print(\"\\nTraining GRU model...\")\n",
        "gru_callbacks = create_callbacks('gru')\n",
        "\n",
        "gru_history = gru_model.fit(\n",
        "    X_train_final, y_train_final,\n",
        "    validation_data=(X_val_final, y_val_final),\n",
        "    epochs=100,\n",
        "    batch_size=32,\n",
        "    callbacks=gru_callbacks,\n",
        "    verbose=1,\n",
        "    shuffle=False\n",
        ")\n",
        "\n",
        "print(\"Training completed!\")"
      ]
    },
    {
      "cell_type": "code",
      "execution_count": 13,
      "metadata": {
        "colab": {
          "base_uri": "https://localhost:8080/",
          "height": 818
        },
        "id": "NKxlO7SmxFpU",
        "outputId": "3d39c009-48a0-4ae3-ee06-e2ea80e5673f"
      },
      "outputs": [
        {
          "output_type": "stream",
          "name": "stdout",
          "text": [
            "\n",
            "Advanced LSTM Performance:\n",
            "RMSE: 86.86\n",
            "MAE: 50.53\n",
            "MSE: 7545.42\n",
            "\n",
            "Advanced GRU Performance:\n",
            "RMSE: 109.48\n",
            "MAE: 78.49\n",
            "MSE: 11986.31\n"
          ]
        },
        {
          "output_type": "error",
          "ename": "NameError",
          "evalue": "name 'lstm_history' is not defined",
          "traceback": [
            "\u001b[0;31m---------------------------------------------------------------------------\u001b[0m",
            "\u001b[0;31mNameError\u001b[0m                                 Traceback (most recent call last)",
            "\u001b[0;32m/tmp/ipython-input-3068099657.py\u001b[0m in \u001b[0;36m<cell line: 0>\u001b[0;34m()\u001b[0m\n\u001b[1;32m     33\u001b[0m \u001b[0;34m\u001b[0m\u001b[0m\n\u001b[1;32m     34\u001b[0m \u001b[0mplt\u001b[0m\u001b[0;34m.\u001b[0m\u001b[0msubplot\u001b[0m\u001b[0;34m(\u001b[0m\u001b[0;36m1\u001b[0m\u001b[0;34m,\u001b[0m \u001b[0;36m3\u001b[0m\u001b[0;34m,\u001b[0m \u001b[0;36m1\u001b[0m\u001b[0;34m)\u001b[0m\u001b[0;34m\u001b[0m\u001b[0;34m\u001b[0m\u001b[0m\n\u001b[0;32m---> 35\u001b[0;31m \u001b[0mplt\u001b[0m\u001b[0;34m.\u001b[0m\u001b[0mplot\u001b[0m\u001b[0;34m(\u001b[0m\u001b[0mlstm_history\u001b[0m\u001b[0;34m.\u001b[0m\u001b[0mhistory\u001b[0m\u001b[0;34m[\u001b[0m\u001b[0;34m'loss'\u001b[0m\u001b[0;34m]\u001b[0m\u001b[0;34m,\u001b[0m \u001b[0mlabel\u001b[0m\u001b[0;34m=\u001b[0m\u001b[0;34m'LSTM Train Loss'\u001b[0m\u001b[0;34m)\u001b[0m\u001b[0;34m\u001b[0m\u001b[0;34m\u001b[0m\u001b[0m\n\u001b[0m\u001b[1;32m     36\u001b[0m \u001b[0mplt\u001b[0m\u001b[0;34m.\u001b[0m\u001b[0mplot\u001b[0m\u001b[0;34m(\u001b[0m\u001b[0mlstm_history\u001b[0m\u001b[0;34m.\u001b[0m\u001b[0mhistory\u001b[0m\u001b[0;34m[\u001b[0m\u001b[0;34m'val_loss'\u001b[0m\u001b[0;34m]\u001b[0m\u001b[0;34m,\u001b[0m \u001b[0mlabel\u001b[0m\u001b[0;34m=\u001b[0m\u001b[0;34m'LSTM Val Loss'\u001b[0m\u001b[0;34m)\u001b[0m\u001b[0;34m\u001b[0m\u001b[0;34m\u001b[0m\u001b[0m\n\u001b[1;32m     37\u001b[0m \u001b[0mplt\u001b[0m\u001b[0;34m.\u001b[0m\u001b[0mplot\u001b[0m\u001b[0;34m(\u001b[0m\u001b[0mgru_history\u001b[0m\u001b[0;34m.\u001b[0m\u001b[0mhistory\u001b[0m\u001b[0;34m[\u001b[0m\u001b[0;34m'loss'\u001b[0m\u001b[0;34m]\u001b[0m\u001b[0;34m,\u001b[0m \u001b[0mlabel\u001b[0m\u001b[0;34m=\u001b[0m\u001b[0;34m'GRU Train Loss'\u001b[0m\u001b[0;34m)\u001b[0m\u001b[0;34m\u001b[0m\u001b[0;34m\u001b[0m\u001b[0m\n",
            "\u001b[0;31mNameError\u001b[0m: name 'lstm_history' is not defined"
          ]
        },
        {
          "output_type": "display_data",
          "data": {
            "text/plain": [
              "<Figure size 1500x500 with 1 Axes>"
            ],
            "image/png": "[encoded data removed]"
          },
          "metadata": {}
        }
      ],
      "source": [
        "# Comprehensive model evaluation and ensemble predictions\n",
        "def evaluate_model(model, X_val, y_val, model_name, target_scaler):\n",
        "    \"\"\"Evaluate model performance with detailed metrics\"\"\"\n",
        "\n",
        "    # Make predictions\n",
        "    val_pred_scaled = model.predict(X_val, verbose=0)\n",
        "    val_pred = target_scaler.inverse_transform(val_pred_scaled.reshape(-1, 1)).flatten()\n",
        "    y_val_original = target_scaler.inverse_transform(y_val.reshape(-1, 1)).flatten()\n",
        "\n",
        "    # Calculate metrics\n",
        "    mse = mean_squared_error(y_val_original, val_pred)\n",
        "    rmse = np.sqrt(mse)\n",
        "    mae = mean_absolute_error(y_val_original, val_pred)\n",
        "\n",
        "    print(f\"\\n{model_name} Performance:\")\n",
        "    print(f\"RMSE: {rmse:.2f}\")\n",
        "    print(f\"MAE: {mae:.2f}\")\n",
        "    print(f\"MSE: {mse:.2f}\")\n",
        "\n",
        "    return rmse, mae, mse, val_pred\n",
        "\n",
        "# Evaluate both models\n",
        "lstm_rmse, lstm_mae, lstm_mse, lstm_val_pred = evaluate_model(\n",
        "    lstm_model, X_val_final, y_val_final, \"Advanced LSTM\", target_scaler\n",
        ")\n",
        "\n",
        "gru_rmse, gru_mae, gru_mse, gru_val_pred = evaluate_model(\n",
        "    gru_model, X_val_final, y_val_final, \"Advanced GRU\", target_scaler\n",
        ")\n",
        "\n",
        "# Plot training history\n",
        "plt.figure(figsize=(15, 5))\n",
        "\n",
        "plt.subplot(1, 3, 1)\n",
        "plt.plot(lstm_history.history['loss'], label='LSTM Train Loss')\n",
        "plt.plot(lstm_history.history['val_loss'], label='LSTM Val Loss')\n",
        "plt.plot(gru_history.history['loss'], label='GRU Train Loss')\n",
        "plt.plot(gru_history.history['val_loss'], label='GRU Val Loss')\n",
        "plt.title('Training History - Loss')\n",
        "plt.xlabel('Epochs')\n",
        "plt.ylabel('Loss')\n",
        "plt.legend()\n",
        "\n",
        "plt.subplot(1, 3, 2)\n",
        "plt.plot(lstm_history.history['mae'], label='LSTM Train MAE')\n",
        "plt.plot(lstm_history.history['val_mae'], label='LSTM Val MAE')\n",
        "plt.plot(gru_history.history['mae'], label='GRU Train MAE')\n",
        "plt.plot(gru_history.history['val_mae'], label='GRU Val MAE')\n",
        "plt.title('Training History - MAE')\n",
        "plt.xlabel('Epochs')\n",
        "plt.ylabel('MAE')\n",
        "plt.legend()\n",
        "\n",
        "plt.subplot(1, 3, 3)\n",
        "# Plot predictions vs actual for validation set\n",
        "y_val_original = target_scaler.inverse_transform(y_val_final.reshape(-1, 1)).flatten()\n",
        "plt.scatter(y_val_original[:500], lstm_val_pred[:500], alpha=0.5, label='LSTM')\n",
        "plt.scatter(y_val_original[:500], gru_val_pred[:500], alpha=0.5, label='GRU')\n",
        "plt.plot([y_val_original.min(), y_val_original.max()],\n",
        "         [y_val_original.min(), y_val_original.max()], 'r--', lw=2)\n",
        "plt.xlabel('Actual PM2.5')\n",
        "plt.ylabel('Predicted PM2.5')\n",
        "plt.title('Predictions vs Actual (Validation)')\n",
        "plt.legend()\n",
        "\n",
        "plt.tight_layout()\n",
        "plt.show()\n",
        "\n",
        "print(f\"\\nBest individual model RMSE: {min(lstm_rmse, gru_rmse):.2f}\")"
      ]
    },
    {
      "cell_type": "code",
      "execution_count": null,
      "metadata": {
        "id": "Nrw_e7OVwe6R"
      },
      "outputs": [],
      "source": [
        "# Advanced ensemble predictions for test set\n",
        "print(\"Making ensemble predictions on test set...\")\n",
        "\n",
        "# Get predictions from both models\n",
        "lstm_test_pred_scaled = lstm_model.predict(X_test_seq, verbose=1)\n",
        "gru_test_pred_scaled = gru_model.predict(X_test_seq, verbose=1)\n",
        "\n",
        "# Inverse transform predictions\n",
        "lstm_test_pred = target_scaler.inverse_transform(lstm_test_pred_scaled.reshape(-1, 1)).flatten()\n",
        "gru_test_pred = target_scaler.inverse_transform(gru_test_pred_scaled.reshape(-1, 1)).flatten()\n",
        "\n",
        "# Create ensemble prediction with weighted average\n",
        "# Weight based on validation performance (lower RMSE gets higher weight)\n",
        "lstm_weight = 1 / (lstm_rmse + 1e-6)\n",
        "gru_weight = 1 / (gru_rmse + 1e-6)\n",
        "total_weight = lstm_weight + gru_weight\n",
        "\n",
        "lstm_weight_norm = lstm_weight / total_weight\n",
        "gru_weight_norm = gru_weight / total_weight\n",
        "\n",
        "print(f\"LSTM weight: {lstm_weight_norm:.3f}\")\n",
        "print(f\"GRU weight: {gru_weight_norm:.3f}\")\n",
        "\n",
        "# Weighted ensemble prediction\n",
        "ensemble_pred = lstm_weight_norm * lstm_test_pred + gru_weight_norm * gru_test_pred\n",
        "\n",
        "# Apply post-processing to ensure reasonable predictions\n",
        "ensemble_pred = np.clip(ensemble_pred, 0, 500)  # PM2.5 shouldn't be negative or extremely high\n",
        "\n",
        "# Prepare submission with proper test data alignment\n",
        "print(\"Preparing submission file...\")\n",
        "\n",
        "# We need to account for the sequence length offset\n",
        "test_indices = test_final.index[SEQUENCE_LENGTH:]  # Skip first SEQUENCE_LENGTH rows\n",
        "\n",
        "# Create submission DataFrame\n",
        "submission = pd.DataFrame({\n",
        "    'row ID': test_indices.strftime('%Y-%m-%d %-H:%M:%S'),\n",
        "    'pm2.5': np.round(ensemble_pred).astype(int)\n",
        "})\n",
        "\n",
        "# Sort by row ID to ensure proper order\n",
        "submission = submission.sort_values(by='row ID').reset_index(drop=True)\n",
        "\n",
        "print(f\"Submission shape: {submission.shape}\")\n",
        "print(\"Sample predictions:\")\n",
        "print(submission.head(10))\n",
        "\n",
        "print(f\"\\nPrediction statistics:\")\n",
        "print(f\"Min: {ensemble_pred.min():.2f}\")\n",
        "print(f\"Max: {ensemble_pred.max():.2f}\")\n",
        "print(f\"Mean: {ensemble_pred.mean():.2f}\")\n",
        "print(f\"Std: {ensemble_pred.std():.2f}\")\n",
        "\n",
        "# Save the submission file\n",
        "submission.to_csv('improved_submission.csv', index=False)\n",
        "print(\"\\nSubmission file saved as 'improved_submission.csv'\")\n",
        "\n",
        "# Display estimated performance improvement\n",
        "print(f\"\\n🎯 PERFORMANCE SUMMARY:\")\n",
        "print(f\"Original error: 5035.86\")\n",
        "print(f\"Best model RMSE: {min(lstm_rmse, gru_rmse):.2f}\")\n",
        "print(f\"Expected improvement: {((5035.86 - min(lstm_rmse, gru_rmse)) / 5035.86 * 100):.1f}%\")\n",
        "\n",
        "if min(lstm_rmse, gru_rmse) < 3000:\n",
        "    print(\"✅ TARGET ACHIEVED: Error reduced to below 3000!\")\n",
        "else:\n",
        "    print(\"⚠️  Close to target - may need further fine-tuning\")\n",
        "\n",
        "# Plot prediction distribution\n",
        "plt.figure(figsize=(12, 4))\n",
        "\n",
        "plt.subplot(1, 2, 1)\n",
        "plt.hist(ensemble_pred, bins=50, alpha=0.7, edgecolor='black')\n",
        "plt.title('Distribution of Ensemble Predictions')\n",
        "plt.xlabel('PM2.5 Predictions')\n",
        "plt.ylabel('Frequency')\n",
        "\n",
        "plt.subplot(1, 2, 2)\n",
        "plt.plot(ensemble_pred[:1000], label='Ensemble', alpha=0.8)\n",
        "plt.plot(lstm_test_pred[:1000], label='LSTM', alpha=0.6)\n",
        "plt.plot(gru_test_pred[:1000], label='GRU', alpha=0.6)\n",
        "plt.title('Predictions Comparison (First 1000 points)')\n",
        "plt.xlabel('Time Steps')\n",
        "plt.ylabel('PM2.5')\n",
        "plt.legend()\n",
        "\n",
        "plt.tight_layout()\n",
        "plt.show()"
      ]
    }
  ],
  "metadata": {
    "colab": {
      "provenance": [],
      "include_colab_link": true
    },
    "kernelspec": {
      "display_name": "Python 3",
      "name": "python3"
    },
    "language_info": {
      "codemirror_mode": {
        "name": "ipython",
        "version": 3
      },
      "file_extension": ".py",
      "mimetype": "text/x-python",
      "name": "python",
      "nbconvert_exporter": "python",
      "pygments_lexer": "ipython3",
      "version": "3.12.6"
    }
  },
  "nbformat": 4,
  "nbformat_minor": 0
}